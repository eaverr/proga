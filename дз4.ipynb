{
 "cells": [
  {
   "cell_type": "markdown",
   "metadata": {},
   "source": [
    "**Часть 1.**"
   ]
  },
  {
   "cell_type": "markdown",
   "metadata": {},
   "source": [
    "**1** SELECT * FROM titles\n",
    "\n",
    "WHERE premiered < 2018\n",
    "\n",
    "ORDER BY premiered DESC"
   ]
  },
  {
   "cell_type": "markdown",
   "metadata": {},
   "source": [
    "**2** SELECT title, votes FROM titles \n",
    "\n",
    "JOIN rating ON titles.title_id = rating.title_id\n",
    "\n",
    "ORDER BY votes DESC\n",
    "\n",
    "LIMIT 50"
   ]
  },
  {
   "cell_type": "markdown",
   "metadata": {},
   "source": [
    "**3** SELECT title, genre_name, rating, votes FROM titles\n",
    "\n",
    "JOIN film_genres ON titles.title_id = film_genres.title_id\n",
    "\n",
    "JOIN genre_types ON film_genres.genre_id = genre_types.id\n",
    "\n",
    "JOIN rating ON titles.title_id = rating.title_id\n",
    "\n",
    "WHERE genre_name = \"Comedy\" AND rating >= 7 AND premiered = 2019\n",
    "\n",
    "ORDER BY votes DESC\n",
    "\n",
    "LIMIT 10"
   ]
  },
  {
   "cell_type": "markdown",
   "metadata": {},
   "source": [
    "**4** SELECT title, premiered, name FROM titles\n",
    "\n",
    "JOIN crew ON titles.title_id = crew.title_id\n",
    "\n",
    "JOIN people ON crew.person_id = people.person_id\n",
    "\n",
    "WHERE name = \"Emma Watson\"\n",
    "\n",
    "ORDER BY premiered DESC"
   ]
  },
  {
   "cell_type": "markdown",
   "metadata": {},
   "source": [
    "**5** SELECT premiered, genre_name, COUNT(titles.title_id) as n_films FROM titles\n",
    "\n",
    "JOIN film_genres ON titles.title_id = film_genres.title_id\n",
    "\n",
    "JOIN genre_types ON film_genres.genre_id = genre_types.id\n",
    "\n",
    "WHERE genre_name = \"Crime\"\n",
    "\n",
    "GROUP BY premiered\n",
    "\n",
    "ORDER BY premiered"
   ]
  },
  {
   "cell_type": "markdown",
   "metadata": {},
   "source": [
    "**6 a** SELECT name, born, died, role_type, (IFNULL(died, 2021) - born) AS lived FROM people\n",
    "\n",
    "JOIN crew ON crew.person_id = people.person_id\n",
    "\n",
    "JOIN role_categories ON crew.category = role_categories.id\n",
    "\n",
    "WHERE born > 0 AND (category IN (1, 2))\n",
    "\n",
    "ORDER BY lived DESC\n",
    "\n",
    "LIMIT 10"
   ]
  },
  {
   "cell_type": "markdown",
   "metadata": {},
   "source": [
    "**6 b** SELECT name, born, died, role_type, (IFNULL(died, 2021) - born) AS lived FROM people\n",
    "\n",
    "JOIN crew ON crew.person_id = people.person_id\n",
    "\n",
    "JOIN role_categories ON crew.category = role_categories.id\n",
    "\n",
    "WHERE born > 0 AND (category IN (1, 2)) AND lived > 100\n",
    "\n",
    "ORDER BY lived DESC"
   ]
  },
  {
   "cell_type": "markdown",
   "metadata": {},
   "source": [
    "**7**"
   ]
  },
  {
   "cell_type": "code",
   "execution_count": 1,
   "metadata": {},
   "outputs": [],
   "source": [
    "import sqlite3\n",
    "import pandas as pd\n",
    "import matplotlib.pyplot as plt"
   ]
  },
  {
   "cell_type": "code",
   "execution_count": 2,
   "metadata": {},
   "outputs": [],
   "source": [
    "con = sqlite3.connect('D:\\imdb_small_indexed.db')\n",
    "cur = con.cursor()"
   ]
  },
  {
   "cell_type": "code",
   "execution_count": 3,
   "metadata": {},
   "outputs": [],
   "source": [
    "comedies_query = \"\"\"\n",
    "SELECT title, genre_name, ROUND(rating) as comedy_notes\n",
    "FROM titles \n",
    "JOIN film_genres ON titles.title_id = film_genres.title_id\n",
    "JOIN genre_types ON film_genres.genre_id = genre_types.id\n",
    "JOIN rating ON titles.title_id = rating.title_id\n",
    "WHERE genre_name = \"Comedy\"\n",
    "ORDER BY comedy_notes DESC\n",
    "\"\"\""
   ]
  },
  {
   "cell_type": "code",
   "execution_count": 4,
   "metadata": {},
   "outputs": [
    {
     "data": {
      "text/html": [
       "<div>\n",
       "<style scoped>\n",
       "    .dataframe tbody tr th:only-of-type {\n",
       "        vertical-align: middle;\n",
       "    }\n",
       "\n",
       "    .dataframe tbody tr th {\n",
       "        vertical-align: top;\n",
       "    }\n",
       "\n",
       "    .dataframe thead th {\n",
       "        text-align: right;\n",
       "    }\n",
       "</style>\n",
       "<table border=\"1\" class=\"dataframe\">\n",
       "  <thead>\n",
       "    <tr style=\"text-align: right;\">\n",
       "      <th></th>\n",
       "      <th>title</th>\n",
       "      <th>genre_name</th>\n",
       "      <th>comedy_notes</th>\n",
       "    </tr>\n",
       "  </thead>\n",
       "  <tbody>\n",
       "    <tr>\n",
       "      <th>0</th>\n",
       "      <td>Kollege kommt gleich</td>\n",
       "      <td>Comedy</td>\n",
       "      <td>10.0</td>\n",
       "    </tr>\n",
       "    <tr>\n",
       "      <th>1</th>\n",
       "      <td>Call Me Kevin</td>\n",
       "      <td>Comedy</td>\n",
       "      <td>10.0</td>\n",
       "    </tr>\n",
       "    <tr>\n",
       "      <th>2</th>\n",
       "      <td>That's My Chair, That Is</td>\n",
       "      <td>Comedy</td>\n",
       "      <td>10.0</td>\n",
       "    </tr>\n",
       "    <tr>\n",
       "      <th>3</th>\n",
       "      <td>Tromasterpiece Theatre: Poultrygeist</td>\n",
       "      <td>Comedy</td>\n",
       "      <td>10.0</td>\n",
       "    </tr>\n",
       "    <tr>\n",
       "      <th>4</th>\n",
       "      <td>Brooklyn Vans</td>\n",
       "      <td>Comedy</td>\n",
       "      <td>10.0</td>\n",
       "    </tr>\n",
       "    <tr>\n",
       "      <th>...</th>\n",
       "      <td>...</td>\n",
       "      <td>...</td>\n",
       "      <td>...</td>\n",
       "    </tr>\n",
       "    <tr>\n",
       "      <th>88243</th>\n",
       "      <td>Gemelos sin cura</td>\n",
       "      <td>Comedy</td>\n",
       "      <td>1.0</td>\n",
       "    </tr>\n",
       "    <tr>\n",
       "      <th>88244</th>\n",
       "      <td>Bocadillo</td>\n",
       "      <td>Comedy</td>\n",
       "      <td>1.0</td>\n",
       "    </tr>\n",
       "    <tr>\n",
       "      <th>88245</th>\n",
       "      <td>Debt Fees</td>\n",
       "      <td>Comedy</td>\n",
       "      <td>1.0</td>\n",
       "    </tr>\n",
       "    <tr>\n",
       "      <th>88246</th>\n",
       "      <td>Awang Gerudi</td>\n",
       "      <td>Comedy</td>\n",
       "      <td>1.0</td>\n",
       "    </tr>\n",
       "    <tr>\n",
       "      <th>88247</th>\n",
       "      <td>Steve's Hollywood Story</td>\n",
       "      <td>Comedy</td>\n",
       "      <td>1.0</td>\n",
       "    </tr>\n",
       "  </tbody>\n",
       "</table>\n",
       "<p>88248 rows × 3 columns</p>\n",
       "</div>"
      ],
      "text/plain": [
       "                                      title genre_name  comedy_notes\n",
       "0                      Kollege kommt gleich     Comedy          10.0\n",
       "1                             Call Me Kevin     Comedy          10.0\n",
       "2                  That's My Chair, That Is     Comedy          10.0\n",
       "3      Tromasterpiece Theatre: Poultrygeist     Comedy          10.0\n",
       "4                             Brooklyn Vans     Comedy          10.0\n",
       "...                                     ...        ...           ...\n",
       "88243                      Gemelos sin cura     Comedy           1.0\n",
       "88244                             Bocadillo     Comedy           1.0\n",
       "88245                             Debt Fees     Comedy           1.0\n",
       "88246                          Awang Gerudi     Comedy           1.0\n",
       "88247               Steve's Hollywood Story     Comedy           1.0\n",
       "\n",
       "[88248 rows x 3 columns]"
      ]
     },
     "execution_count": 4,
     "metadata": {},
     "output_type": "execute_result"
    }
   ],
   "source": [
    "cur.execute(comedies_query)\n",
    "df_comedies = pd.read_sql_query(comedies_query, con=con)\n",
    "df_comedies"
   ]
  },
  {
   "cell_type": "code",
   "execution_count": 6,
   "metadata": {},
   "outputs": [],
   "source": [
    "dramas_query = \"\"\"\n",
    "SELECT title, genre_name, ROUND(rating) as drama_notes\n",
    "FROM titles \n",
    "JOIN film_genres ON titles.title_id = film_genres.title_id\n",
    "JOIN genre_types ON film_genres.genre_id = genre_types.id\n",
    "JOIN rating ON titles.title_id = rating.title_id\n",
    "WHERE genre_name = \"Drama\"\n",
    "ORDER BY drama_notes DESC\n",
    "\"\"\""
   ]
  },
  {
   "cell_type": "code",
   "execution_count": 7,
   "metadata": {},
   "outputs": [
    {
     "data": {
      "text/html": [
       "<div>\n",
       "<style scoped>\n",
       "    .dataframe tbody tr th:only-of-type {\n",
       "        vertical-align: middle;\n",
       "    }\n",
       "\n",
       "    .dataframe tbody tr th {\n",
       "        vertical-align: top;\n",
       "    }\n",
       "\n",
       "    .dataframe thead th {\n",
       "        text-align: right;\n",
       "    }\n",
       "</style>\n",
       "<table border=\"1\" class=\"dataframe\">\n",
       "  <thead>\n",
       "    <tr style=\"text-align: right;\">\n",
       "      <th></th>\n",
       "      <th>title</th>\n",
       "      <th>genre_name</th>\n",
       "      <th>drama_notes</th>\n",
       "    </tr>\n",
       "  </thead>\n",
       "  <tbody>\n",
       "    <tr>\n",
       "      <th>0</th>\n",
       "      <td>Dhyanu Bhagat</td>\n",
       "      <td>Drama</td>\n",
       "      <td>10.0</td>\n",
       "    </tr>\n",
       "    <tr>\n",
       "      <th>1</th>\n",
       "      <td>Malgudi Days</td>\n",
       "      <td>Drama</td>\n",
       "      <td>10.0</td>\n",
       "    </tr>\n",
       "    <tr>\n",
       "      <th>2</th>\n",
       "      <td>Pitchi Pullaiah</td>\n",
       "      <td>Drama</td>\n",
       "      <td>10.0</td>\n",
       "    </tr>\n",
       "    <tr>\n",
       "      <th>3</th>\n",
       "      <td>Aval Kathirunnu Avanum</td>\n",
       "      <td>Drama</td>\n",
       "      <td>10.0</td>\n",
       "    </tr>\n",
       "    <tr>\n",
       "      <th>4</th>\n",
       "      <td>König Richard III</td>\n",
       "      <td>Drama</td>\n",
       "      <td>10.0</td>\n",
       "    </tr>\n",
       "    <tr>\n",
       "      <th>...</th>\n",
       "      <td>...</td>\n",
       "      <td>...</td>\n",
       "      <td>...</td>\n",
       "    </tr>\n",
       "    <tr>\n",
       "      <th>133666</th>\n",
       "      <td>Alibi</td>\n",
       "      <td>Drama</td>\n",
       "      <td>1.0</td>\n",
       "    </tr>\n",
       "    <tr>\n",
       "      <th>133667</th>\n",
       "      <td>Hanum &amp; Rangga</td>\n",
       "      <td>Drama</td>\n",
       "      <td>1.0</td>\n",
       "    </tr>\n",
       "    <tr>\n",
       "      <th>133668</th>\n",
       "      <td>Schaste Napolovinu</td>\n",
       "      <td>Drama</td>\n",
       "      <td>1.0</td>\n",
       "    </tr>\n",
       "    <tr>\n",
       "      <th>133669</th>\n",
       "      <td>Second First Love</td>\n",
       "      <td>Drama</td>\n",
       "      <td>1.0</td>\n",
       "    </tr>\n",
       "    <tr>\n",
       "      <th>133670</th>\n",
       "      <td>Greyhound Attack</td>\n",
       "      <td>Drama</td>\n",
       "      <td>1.0</td>\n",
       "    </tr>\n",
       "  </tbody>\n",
       "</table>\n",
       "<p>133671 rows × 3 columns</p>\n",
       "</div>"
      ],
      "text/plain": [
       "                         title genre_name  drama_notes\n",
       "0                Dhyanu Bhagat      Drama         10.0\n",
       "1                 Malgudi Days      Drama         10.0\n",
       "2              Pitchi Pullaiah      Drama         10.0\n",
       "3       Aval Kathirunnu Avanum      Drama         10.0\n",
       "4            König Richard III      Drama         10.0\n",
       "...                        ...        ...          ...\n",
       "133666                   Alibi      Drama          1.0\n",
       "133667          Hanum & Rangga      Drama          1.0\n",
       "133668      Schaste Napolovinu      Drama          1.0\n",
       "133669       Second First Love      Drama          1.0\n",
       "133670        Greyhound Attack      Drama          1.0\n",
       "\n",
       "[133671 rows x 3 columns]"
      ]
     },
     "execution_count": 7,
     "metadata": {},
     "output_type": "execute_result"
    }
   ],
   "source": [
    "cur.execute(dramas_query)\n",
    "df_dramas = pd.read_sql_query(dramas_query, con=con)\n",
    "df_dramas"
   ]
  },
  {
   "cell_type": "code",
   "execution_count": 8,
   "metadata": {},
   "outputs": [
    {
     "data": {
      "text/plain": [
       "comedy_notes\n",
       "1.0       138\n",
       "2.0       717\n",
       "3.0      2478\n",
       "4.0      6503\n",
       "5.0     14546\n",
       "6.0     25271\n",
       "7.0     24277\n",
       "8.0     12327\n",
       "9.0      1895\n",
       "10.0       96\n",
       "Name: comedy_notes, dtype: int64"
      ]
     },
     "execution_count": 8,
     "metadata": {},
     "output_type": "execute_result"
    }
   ],
   "source": [
    "df_comedies_points = df_comedies.groupby(\"comedy_notes\")[\"comedy_notes\"].count()\n",
    "df_comedies_points"
   ]
  },
  {
   "cell_type": "code",
   "execution_count": 9,
   "metadata": {},
   "outputs": [
    {
     "data": {
      "text/plain": [
       "drama_notes\n",
       "1.0       140\n",
       "2.0       591\n",
       "3.0      2042\n",
       "4.0      6324\n",
       "5.0     17572\n",
       "6.0     39241\n",
       "7.0     46006\n",
       "8.0     18556\n",
       "9.0      3106\n",
       "10.0       93\n",
       "Name: drama_notes, dtype: int64"
      ]
     },
     "execution_count": 9,
     "metadata": {},
     "output_type": "execute_result"
    }
   ],
   "source": [
    "df_dramas_points = df_dramas.groupby(\"drama_notes\")[\"drama_notes\"].count()\n",
    "df_dramas_points"
   ]
  },
  {
   "cell_type": "code",
   "execution_count": 21,
   "metadata": {},
   "outputs": [
    {
     "data": {
      "image/png": "[encoded data removed]",
      "text/plain": [
       "<Figure size 864x576 with 1 Axes>"
      ]
     },
     "metadata": {
      "needs_background": "light"
     },
     "output_type": "display_data"
    }
   ],
   "source": [
    "plt.figure(figsize=(12, 8))\n",
    "plt.xticks(range(1, 11))\n",
    "plt.title(\"Количество оценок по баллам\", fontsize = 12)\n",
    "plt.xlabel(\"Округленная оценка\", fontsize = 12)\n",
    "plt.ylabel(\"Количество оценок\", fontsize = 12)\n",
    "ax = plt.gca()\n",
    "df_comedies[\"comedy_notes\"].value_counts().sort_index().plot(kind='line', ax=ax, fontsize = 11, color = 'green')\n",
    "df_dramas[\"drama_notes\"].value_counts().sort_index().plot(kind='line', ax=ax, fontsize = 11, color = 'black')\n",
    "ax.legend(loc='best', fontsize = 12)\n",
    "plt.show()"
   ]
  },
  {
   "cell_type": "markdown",
   "metadata": {},
   "source": [
    "Сохранение в базу."
   ]
  },
  {
   "cell_type": "markdown",
   "metadata": {},
   "source": [
    "CREATE TABLE IF NOT EXISTS longlivers AS\n",
    "\n",
    "SELECT name, born, died, role_type, (IFNULL(died, 2021) - born) AS lived FROM people\n",
    "\n",
    "JOIN crew ON crew.person_id = people.person_id\n",
    "\n",
    "JOIN role_categories ON crew.category = role_categories.id\n",
    "\n",
    "WHERE born > 0 AND category IN (1, 2)\n",
    "\n",
    "ORDER BY lived DESC"
   ]
  }
 ],
 "metadata": {
  "kernelspec": {
   "display_name": "Python 3",
   "language": "python",
   "name": "python3"
  },
  "language_info": {
   "codemirror_mode": {
    "name": "ipython",
    "version": 3
   },
   "file_extension": ".py",
   "mimetype": "text/x-python",
   "name": "python",
   "nbconvert_exporter": "python",
   "pygments_lexer": "ipython3",
   "version": "3.8.5"
  }
 },
 "nbformat": 4,
 "nbformat_minor": 4
}
